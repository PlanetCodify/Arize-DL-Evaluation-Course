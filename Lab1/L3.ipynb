{
 "cells": [
  {
   "cell_type": "markdown",
   "id": "44ce8079-c3b4-4537-844e-7e6d6706e923",
   "metadata": {},
   "source": [
    "# Lab 1: Building your Agent "
   ]
  },
  {
   "cell_type": "markdown",
   "id": "0a4c9a24-4d77-43ca-84fd-5155b4e4c777",
   "metadata": {},
   "source": [
    "The agent is comprised of a router using OpenAI function calling, and a set of three tools: a database lookup tool, a data analysis tool, and a code generator to create graphs.\n",
    "\n",
    "<img src=\"images/agent.png\" width=\"500\"/>\n",
    "\n",
    "\n",
    "The agent can lookup information from a local file, perform analysis on that information, and graph results. The example local file is a log of transactions at a local store. The agent can help the store owners understand trends and anomalies in their sales data."
   ]
  },
  {
   "cell_type": "markdown",
   "id": "fb9a4f62-de25-4a66-8cdb-f33d1e92ad92",
   "metadata": {},
   "source": [
    "## Importing necessary libraries "
   ]
  },
  {
   "cell_type": "code",
   "execution_count": null,
   "id": "e4d6c602-28a5-42f2-9e53-33dac5846cba",
   "metadata": {
    "height": 149
   },
   "outputs": [],
   "source": [
    "from openai import OpenAI\n",
    "import pandas as pd\n",
    "import json\n",
    "import duckdb\n",
    "from pydantic import BaseModel, Field\n",
    "from IPython.display import Markdown\n",
    "\n",
    "from helper import get_openai_api_key"
   ]
  },
  {
   "cell_type": "markdown",
   "id": "30f7f1fb-fea2-475b-9a90-a70eea108153",
   "metadata": {},
   "source": [
    "## Initializing the OpenAI client"
   ]
  },
  {
   "cell_type": "code",
   "execution_count": 24,
   "id": "a5bbb872-2328-4283-b544-9a4c6ba960d3",
   "metadata": {
    "height": 98
   },
   "outputs": [],
   "source": [
    "# initialize the OpenAI client\n",
    "openai_api_key = get_openai_api_key()\n",
    "client = OpenAI(api_key=openai_api_key)\n",
    "\n",
    "MODEL = \"gpt-4o-mini\""
   ]
  },
  {
   "cell_type": "markdown",
   "id": "2503d9fe-e023-4446-b1b2-4633ab0efd8e",
   "metadata": {},
   "source": [
    "## Defining the tools"
   ]
  },
  {
   "cell_type": "markdown",
   "id": "f3f909b1-689e-4d61-8f8d-c6f35520ad66",
   "metadata": {},
   "source": [
    "Let's start by creating the three tools the agent will be able to use."
   ]
  },
  {
   "cell_type": "markdown",
   "id": "cded04f0-ea0d-48b1-83d0-1bfc84ea170e",
   "metadata": {},
   "source": [
    "### Tool 1: Database Lookup"
   ]
  },
  {
   "cell_type": "markdown",
   "id": "1761c2e1-b100-4d3c-b4d7-8c3b4b709c54",
   "metadata": {},
   "source": [
    "This first tool reads from a local parquet file that contains the transaction data. "
   ]
  },
  {
   "cell_type": "code",
   "execution_count": 26,
   "id": "78dbdaf9-d5e0-4f0d-aa41-318020ab7b1e",
   "metadata": {
    "height": 62
   },
   "outputs": [],
   "source": [
    "# define the path to the transactional data\n",
    "TRANSACTION_DATA_FILE_PATH = 'data/Store_Sales_Price_Elasticity_Promotions_Data.parquet'"
   ]
  },
  {
   "cell_type": "markdown",
   "id": "0b7a0d24-185a-47a4-a27b-3959cb1e0ba1",
   "metadata": {},
   "source": [
    "This database lookup tool works using three steps. \n",
    "\n",
    "<img src=\"images/tool1.png\" width=\"500\"/>\n",
    "\n",
    "1. First, it creates the SQL table from a local file, if not already done.\n",
    "2. Second, it translates the original prompt into an sql query (using an LLM call).\n",
    "3. Finally, it runs that query against the database."
   ]
  },
  {
   "cell_type": "code",
   "execution_count": 27,
   "id": "2dd37619-7785-41de-9986-6260d6e17221",
   "metadata": {
    "height": 164
   },
   "outputs": [],
   "source": [
    "# prompt template for step 2 of tool 1\n",
    "SQL_GENERATION_PROMPT = \"\"\"\n",
    "Generate an SQL query based on a prompt. Do not reply with anything besides the SQL query.\n",
    "The prompt is: {prompt}\n",
    "\n",
    "The available columns are: {columns}\n",
    "The table name is: {table_name}\n",
    "\"\"\""
   ]
  },
  {
   "cell_type": "code",
   "execution_count": 28,
   "id": "1b7c2f28-2ec1-43de-b555-d300d916c47d",
   "metadata": {
    "height": 249
   },
   "outputs": [],
   "source": [
    "# code for step 2 of tool 1\n",
    "def generate_sql_query(prompt: str, columns: list, table_name: str) -> str:\n",
    "    \"\"\"Generate an SQL query based on a prompt\"\"\"\n",
    "    formatted_prompt = SQL_GENERATION_PROMPT.format(prompt=prompt, \n",
    "                                                    columns=columns, \n",
    "                                                    table_name=table_name)\n",
    "\n",
    "    response = client.chat.completions.create(\n",
    "        model=MODEL,\n",
    "        messages=[{\"role\": \"user\", \"content\": formatted_prompt}],\n",
    "    )\n",
    "    \n",
    "    return response.choices[0].message.content"
   ]
  },
  {
   "cell_type": "code",
   "execution_count": 29,
   "id": "cdb59fa5-f096-4ba6-9967-4dffea8aa5cb",
   "metadata": {
    "height": 436
   },
   "outputs": [],
   "source": [
    "# code for tool 1\n",
    "def lookup_sales_data(prompt: str) -> str:\n",
    "    \"\"\"Implementation of sales data lookup from parquet file using SQL\"\"\"\n",
    "    try:\n",
    "\n",
    "        # define the table name\n",
    "        table_name = \"sales\"\n",
    "        \n",
    "        # step 1: read the parquet file into a DuckDB table\n",
    "        df = pd.read_parquet(TRANSACTION_DATA_FILE_PATH)\n",
    "        duckdb.sql(f\"CREATE TABLE IF NOT EXISTS {table_name} AS SELECT * FROM df\")\n",
    "\n",
    "        # step 2: generate the SQL code\n",
    "        sql_query = generate_sql_query(prompt, df.columns, table_name)\n",
    "        # clean the response to make sure it only includes the SQL code\n",
    "        sql_query = sql_query.strip()\n",
    "        sql_query = sql_query.replace(\"```sql\", \"\").replace(\"```\", \"\")\n",
    "        \n",
    "        # step 3: execute the SQL query\n",
    "        result = duckdb.sql(sql_query).df()\n",
    "        \n",
    "        return result.to_string()\n",
    "    except Exception as e:\n",
    "        return f\"Error accessing data: {str(e)}\""
   ]
  },
  {
   "cell_type": "markdown",
   "id": "f044f10e-6fd1-4514-94b5-3d62fe2b23d1",
   "metadata": {},
   "source": [
    "Great! Now let's test the first tool and make sure it worked correctly."
   ]
  },
  {
   "cell_type": "code",
   "execution_count": 30,
   "id": "7391d9ff-55f1-4b1d-bfe5-a4df403bf4b9",
   "metadata": {
    "height": 62
   },
   "outputs": [
    {
     "name": "stdout",
     "output_type": "stream",
     "text": [
      "    Store_Number  SKU_Coded  Product_Class_Code  Sold_Date  Qty_Sold  Total_Sale_Value  On_Promo\n",
      "0           1320    6173050               22875 2021-11-01         1          4.990000         0\n",
      "1           1320    6174250               22875 2021-11-01         1          0.890000         0\n",
      "2           1320    6176200               22975 2021-11-01         2         99.980003         0\n",
      "3           1320    6176800               22800 2021-11-01         1         14.970000         0\n",
      "4           1320    6177250               22975 2021-11-01         1          6.890000         0\n",
      "5           1320    6177300               22800 2021-11-01         1          9.990000         0\n",
      "6           1320    6177350               22800 2021-11-01         2         16.980000         0\n",
      "7           1320    6177700               22875 2021-11-01         1          3.190000         0\n",
      "8           1320    6178000               22875 2021-11-01         2          6.380000         0\n",
      "9           1320    6178250               22800 2021-11-01         1         16.590000         0\n",
      "10          1320    6179250               24400 2021-11-01         1         14.990000         0\n",
      "11          1320    6179300               22800 2021-11-01         2          9.980000         0\n",
      "12          1320    6179400               24400 2021-11-01         2         29.980000         0\n",
      "13          1320    6179450               24400 2021-11-01         1         14.990000         0\n",
      "14          1320    6179500               24400 2021-11-01         1         14.990000         0\n",
      "15          1320    6179750               22800 2021-11-01         2         39.980000         0\n",
      "16          1320    6180550               22975 2021-11-01         1         15.990000         0\n",
      "17          1320    6182050               22975 2021-11-01         1          7.990000         0\n",
      "18          1320    6183750               22850 2021-11-01         3         38.970001         0\n",
      "19          1320    6184100               22975 2021-11-01         3         59.970001         0\n",
      "20          1320    6188550               22950 2021-11-01         2         15.980000         0\n",
      "21          1320    6190050               24425 2021-11-01         5         19.950001         0\n",
      "22          1320    6190150               24425 2021-11-01         1          8.990000         0\n",
      "23          1320    6190200               24425 2021-11-01         1          8.990000         0\n",
      "24          1320    6190250               24425 2021-11-01         1          7.990000         0\n",
      "25          1320    6190350               22950 2021-11-01         1          6.990000         0\n",
      "26          1320    6190400               22950 2021-11-01         1          6.990000         0\n",
      "27          1320    6193750               22875 2021-11-01         1          6.990000         0\n",
      "28          1320    6195350               24375 2021-11-01         1         16.990000         0\n",
      "29          1320    6195800               22850 2021-11-01         3         25.719999         1\n"
     ]
    }
   ],
   "source": [
    "example_data = lookup_sales_data(\"Show me all the sales for store 1320 on November 1st, 2021\")\n",
    "print(example_data)"
   ]
  },
  {
   "cell_type": "markdown",
   "id": "481388d3-578d-492b-a53c-46811ac573d7",
   "metadata": {},
   "source": [
    "### Tool 2: Data Analysis"
   ]
  },
  {
   "cell_type": "markdown",
   "id": "153a6d53-fcae-41bd-9d3c-e90960874737",
   "metadata": {},
   "source": [
    "The second tool can analyze the returned data and display conclusions to users.\n",
    "\n",
    "<img src=\"images/tool2.png\" width=\"300\"/>"
   ]
  },
  {
   "cell_type": "code",
   "execution_count": 31,
   "id": "a3510f56-30c5-446d-a41f-bec5e4a1de36",
   "metadata": {
    "height": 113
   },
   "outputs": [],
   "source": [
    "# Construct prompt based on analysis type and data subset\n",
    "DATA_ANALYSIS_PROMPT = \"\"\"\n",
    "Analyze the following data: {data}\n",
    "Your job is to answer the following question: {prompt}\n",
    "\"\"\""
   ]
  },
  {
   "cell_type": "code",
   "execution_count": 32,
   "id": "23cb7932-79be-455f-b4fb-83db752d5e43",
   "metadata": {
    "height": 232
   },
   "outputs": [],
   "source": [
    "# code for tool 2\n",
    "def analyze_sales_data(prompt: str, data: str) -> str:\n",
    "    \"\"\"Implementation of AI-powered sales data analysis\"\"\"\n",
    "    formatted_prompt = DATA_ANALYSIS_PROMPT.format(data=data, prompt=prompt)\n",
    "\n",
    "    response = client.chat.completions.create(\n",
    "        model=MODEL,\n",
    "        messages=[{\"role\": \"user\", \"content\": formatted_prompt}],\n",
    "    )\n",
    "    \n",
    "    analysis = response.choices[0].message.content\n",
    "    return analysis if analysis else \"No analysis could be generated\""
   ]
  },
  {
   "cell_type": "markdown",
   "id": "da97ea8e-c101-4e1b-88d0-8ce088590373",
   "metadata": {},
   "source": [
    "This tool is relatively simple, but let's still test it out to be sure things are working correctly."
   ]
  },
  {
   "cell_type": "code",
   "execution_count": 33,
   "id": "18042c0f-ba38-4ebd-925c-9bc7ae0f0b21",
   "metadata": {
    "height": 62
   },
   "outputs": [
    {
     "name": "stdout",
     "output_type": "stream",
     "text": [
      "Analyzing the provided data, here are the key trends and observations:\n",
      "\n",
      "1. **Sales Performance**:\n",
      "    - Most SKUs were sold in small quantities, with many instances of single units sold. This could indicate either low demand for certain products or a focus on selling a diverse range of products rather than large quantities of few items.\n",
      "    - A few items, such as SKU 6183750 and SKU 6184100, had higher quantities sold (3 units each). This could indicate that these SKUs are more popular or in demand compared to others.\n",
      "\n",
      "2. **Sales Values**:\n",
      "    - The total sale values vary significantly, indicating a diverse range of product pricing. For example, products like SKU 6176200 had a high total sale value of about $99.98, while others like SKU 6174250 had values less than $1.\n",
      "    - Higher quantities sold tend to correlate with higher total sale values (e.g., SKU 6190050 sold 5 units for a total value of approximately $19.95). This suggests that when more units are sold, the sales value tends to increase.\n",
      "\n",
      "3. **Product Class Distribution**:\n",
      "    - There are several different product class codes present (e.g., 22800, 22975, 24400). Analyzing the frequency of sales per product class could provide insight into which classes are performing better. \n",
      "    - The product classes do not appear to have a direct effect on sales volume, as many products within the same class are sold in low quantities.\n",
      "\n",
      "4. **Promotional Influence**:\n",
      "    - It is noteworthy that all instances in the provided dataset have an \"On_Promo\" value of 0, except for one instance (SKU 6195800) which is marked as 1. This may suggest that promotional strategies are either not used frequently or that this data set represents a period without promotions.\n",
      "    - The single promotional item, SKU 6195800, sold 3 units. This could suggest that promotional pricing increases sales volume, although the data does not provide enough context to draw a definitive conclusion.\n",
      "\n",
      "5. **Sales Date**:\n",
      "    - All sales are recorded on the same date (2021-11-01), which limits the ability to observe trends over time. It would be beneficial to analyze data across multiple dates to identify patterns of sales, seasonality, or spikes in purchasing behavior. \n",
      "\n",
      "6. **Potential Areas for Further Analysis**:\n",
      "    - Identify products with the highest revenue and quantity sold to determine which are underperforming and over-performing.\n",
      "    - Explore customer segmentation and behavior relative to the SKU classifications.\n",
      "    - Evaluate the impact of promotions by comparing sales data during promotional days versus non-promotional days.\n",
      "    - Analyze if there are any external factors (e.g., holidays or events) that correlate with spikes in sales.\n",
      "\n",
      "In summary, the data reflects a diverse range of products with varying sales values and quantities, but without promotional influences, it's challenging to establish more dynamic sales trends. Further analysis over a broader dataset through time, and segmenting by product class, could yield more informative insights.\n"
     ]
    }
   ],
   "source": [
    "print(analyze_sales_data(prompt=\"what trends do you see in this data\", \n",
    "                         data=example_data))"
   ]
  },
  {
   "cell_type": "markdown",
   "id": "0b071118-7538-4e21-a709-f50dcc606260",
   "metadata": {},
   "source": [
    "### Tool 3: Data Visualization"
   ]
  },
  {
   "cell_type": "markdown",
   "id": "1b694537-bafd-4df3-8354-0b6083d3d7ea",
   "metadata": {},
   "source": [
    "The third tool generates python code to create the requested graphs from the returned data of the first tool. It consists of two steps:\n",
    "<img src=\"images/tool3.png\" width=\"500\"/>\n",
    "1. First, it creates the chart configuration: chart type, title, data, lables for x-axis and y-axis (using an LLM call).\n",
    "2. Second, it generates the python code based on the chart configuration of the first step (using an LLM call)."
   ]
  },
  {
   "cell_type": "code",
   "execution_count": 34,
   "id": "5faad9a1-4452-4b89-98e6-c6a8a09f98cf",
   "metadata": {
    "height": 113
   },
   "outputs": [],
   "source": [
    "# prompt template for step 1 of tool 3\n",
    "CHART_CONFIGURATION_PROMPT = \"\"\"\n",
    "Generate a chart configuration based on this data: {data}\n",
    "The goal is to show: {visualization_goal}\n",
    "\"\"\""
   ]
  },
  {
   "cell_type": "code",
   "execution_count": 35,
   "id": "cd462935-d2c5-4de1-a094-b7bdf951cd66",
   "metadata": {
    "height": 130
   },
   "outputs": [],
   "source": [
    "# class defining the response format of step 1 of tool 3\n",
    "class VisualizationConfig(BaseModel):\n",
    "    chart_type: str = Field(..., description=\"Type of chart to generate\")\n",
    "    x_axis: str = Field(..., description=\"Name of the x-axis column\")\n",
    "    y_axis: str = Field(..., description=\"Name of the y-axis column\")\n",
    "    title: str = Field(..., description=\"Title of the chart\")"
   ]
  },
  {
   "cell_type": "code",
   "execution_count": 36,
   "id": "3396ccea-1e06-42fa-a667-2d8fc8332df7",
   "metadata": {
    "height": 708
   },
   "outputs": [],
   "source": [
    "# code for step 1 of tool 3\n",
    "def extract_chart_config(data: str, visualization_goal: str) -> dict:\n",
    "    \"\"\"Generate chart visualization configuration\n",
    "    \n",
    "    Args:\n",
    "        data: String containing the data to visualize\n",
    "        visualization_goal: Description of what the visualization should show\n",
    "        \n",
    "    Returns:\n",
    "        Dictionary containing line chart configuration\n",
    "    \"\"\"\n",
    "    formatted_prompt = CHART_CONFIGURATION_PROMPT.format(data=data,\n",
    "                                                         visualization_goal=visualization_goal)\n",
    "    \n",
    "    response = client.beta.chat.completions.parse(\n",
    "        model=MODEL,\n",
    "        messages=[{\"role\": \"user\", \"content\": formatted_prompt}],\n",
    "        response_format=VisualizationConfig,\n",
    "    )\n",
    "    \n",
    "    try:\n",
    "        # Extract axis and title info from response\n",
    "        content = response.choices[0].message.content\n",
    "        \n",
    "        # Return structured chart config\n",
    "        return {\n",
    "            \"chart_type\": content.chart_type,\n",
    "            \"x_axis\": content.x_axis,\n",
    "            \"y_axis\": content.y_axis,\n",
    "            \"title\": content.title,\n",
    "            \"data\": data\n",
    "        }\n",
    "    except Exception:\n",
    "        return {\n",
    "            \"chart_type\": \"line\", \n",
    "            \"x_axis\": \"date\",\n",
    "            \"y_axis\": \"value\",\n",
    "            \"title\": visualization_goal,\n",
    "            \"data\": data\n",
    "        }"
   ]
  },
  {
   "cell_type": "code",
   "execution_count": 37,
   "id": "b0473365-8fb6-4e30-962d-9599cf514323",
   "metadata": {
    "height": 130
   },
   "outputs": [],
   "source": [
    "# prompt template for step 2 of tool 3\n",
    "CREATE_CHART_PROMPT = \"\"\"\n",
    "Write python code to create a chart based on the following configuration.\n",
    "Only return the code, no other text.\n",
    "config: {config}\n",
    "\"\"\""
   ]
  },
  {
   "cell_type": "code",
   "execution_count": 38,
   "id": "0832853e-e7dd-44eb-8fec-8f4524b9baa4",
   "metadata": {
    "height": 283
   },
   "outputs": [],
   "source": [
    "# code for step 2 of tool 3\n",
    "def create_chart(config: dict) -> str:\n",
    "    \"\"\"Create a chart based on the configuration\"\"\"\n",
    "    formatted_prompt = CREATE_CHART_PROMPT.format(config=config)\n",
    "    \n",
    "    response = client.chat.completions.create(\n",
    "        model=MODEL,\n",
    "        messages=[{\"role\": \"user\", \"content\": formatted_prompt}],\n",
    "    )\n",
    "    \n",
    "    code = response.choices[0].message.content\n",
    "    code = code.replace(\"```python\", \"\").replace(\"```\", \"\")\n",
    "    code = code.strip()\n",
    "    \n",
    "    return code"
   ]
  },
  {
   "cell_type": "code",
   "execution_count": 39,
   "id": "0e4e96e8-0ec3-4580-be1e-d239d26c609b",
   "metadata": {
    "height": 130
   },
   "outputs": [],
   "source": [
    "# code for tool 3\n",
    "def generate_visualization(data: str, visualization_goal: str) -> str:\n",
    "    \"\"\"Generate a visualization based on the data and goal\"\"\"\n",
    "    config = extract_chart_config(data, visualization_goal)\n",
    "    code = create_chart(config)\n",
    "    return code"
   ]
  },
  {
   "cell_type": "markdown",
   "id": "7675259b-2978-4f08-bffa-804f0a65395c",
   "metadata": {},
   "source": [
    "Great, now let's try the third tool out:"
   ]
  },
  {
   "cell_type": "code",
   "execution_count": 66,
   "id": "001d0743-5b02-4cfc-a6a4-5b0bba80ea30",
   "metadata": {
    "height": 79
   },
   "outputs": [
    {
     "name": "stdout",
     "output_type": "stream",
     "text": [
      "import pandas as pd\n",
      "import matplotlib.pyplot as plt\n",
      "from io import StringIO\n",
      "\n",
      "# Data Configuration\n",
      "data = '''Store_Number,SKU_Coded,Product_Class_Code,Sold_Date,Qty_Sold,Total_Sale_Value,On_Promo\n",
      "1320,6173050,22875,2021-11-01,1,4.990000,0\n",
      "1320,6174250,22875,2021-11-01,1,0.890000,0\n",
      "1320,6176200,22975,2021-11-01,2,99.980003,0\n",
      "1320,6176800,22800,2021-11-01,1,14.970000,0\n",
      "1320,6177250,22975,2021-11-01,1,6.890000,0\n",
      "1320,6177300,22800,2021-11-01,1,9.990000,0\n",
      "1320,6177350,22800,2021-11-01,2,16.980000,0\n",
      "1320,6177700,22875,2021-11-01,1,3.190000,0\n",
      "1320,6178000,22875,2021-11-01,2,6.380000,0\n",
      "1320,6178250,22800,2021-11-01,1,16.590000,0\n",
      "1320,6179250,24400,2021-11-01,1,14.990000,0\n",
      "1320,6179300,22800,2021-11-01,2,9.980000,0\n",
      "1320,6179400,24400,2021-11-01,2,29.980000,0\n",
      "1320,6179450,24400,2021-11-01,1,14.990000,0\n",
      "1320,6179500,24400,2021-11-01,1,14.990000,0\n",
      "1320,6179750,22800,2021-11-01,2,39.980000,0\n",
      "1320,6180550,22975,2021-11-01,1,15.990000,0\n",
      "1320,6182050,22975,2021-11-01,1,7.990000,0\n",
      "1320,6183750,22850,2021-11-01,3,38.970001,0\n",
      "1320,6184100,22975,2021-11-01,3,59.970001,0\n",
      "1320,6188550,22950,2021-11-01,2,15.980000,0\n",
      "1320,6190050,24425,2021-11-01,5,19.950001,0\n",
      "1320,6190150,24425,2021-11-01,1,8.990000,0\n",
      "1320,6190200,24425,2021-11-01,1,8.990000,0\n",
      "1320,6190250,24425,2021-11-01,1,7.990000,0\n",
      "1320,6190350,22950,2021-11-01,1,6.990000,0\n",
      "1320,6190400,22950,2021-11-01,1,6.990000,0\n",
      "1320,6193750,22875,2021-11-01,1,6.990000,0\n",
      "1320,6195350,24375,2021-11-01,1,16.990000,0\n",
      "1320,6195800,22850,2021-11-01,3,25.719999,1\n",
      "'''\n",
      "\n",
      "# Prepare Data\n",
      "df = pd.read_csv(StringIO(data), parse_dates=['Sold_Date'])\n",
      "df_grouped = df.groupby('Sold_Date').agg({'Qty_Sold': 'sum', 'Total_Sale_Value': 'sum'}).reset_index()\n",
      "\n",
      "# Plot Line Chart\n",
      "plt.figure(figsize=(10, 6))\n",
      "plt.plot(df_grouped['Sold_Date'], df_grouped['Total_Sale_Value'], marker='o')\n",
      "plt.title('A bar chart of sales by product SKU. Put the product SKU on the x-axis and the sales on the y-axis.')\n",
      "plt.xlabel('Sold Date')\n",
      "plt.ylabel('Total Sale Value')\n",
      "plt.xticks(rotation=45)\n",
      "plt.grid()\n",
      "plt.tight_layout()\n",
      "plt.show()\n"
     ]
    }
   ],
   "source": [
    "code = generate_visualization(example_data, \n",
    "                              \"A bar chart of sales by product SKU. Put the product SKU on the x-axis and the sales on the y-axis.\")\n",
    "print(code)"
   ]
  },
  {
   "cell_type": "code",
   "execution_count": 67,
   "id": "8a56266f-790d-4208-9788-02cab6cabfe9",
   "metadata": {
    "height": 30
   },
   "outputs": [
    {
     "data": {
      "image/png": "[encoded data removed]",
      "text/plain": [
       "<Figure size 1000x600 with 1 Axes>"
      ]
     },
     "metadata": {},
     "output_type": "display_data"
    }
   ],
   "source": [
    "exec(code)"
   ]
  },
  {
   "cell_type": "markdown",
   "id": "bdd7653b-a90d-4447-9b6b-646b00e5164b",
   "metadata": {},
   "source": [
    "## Defining the Router"
   ]
  },
  {
   "cell_type": "markdown",
   "id": "b823b2a6-1567-4a03-b829-22f6a3e167ea",
   "metadata": {},
   "source": [
    "Now that all of the tools are defined, you can create the router. The router will take the original user input, and is responsible for calling any tools. After each tool call is completed, the agent will return to router to determine whether another tool should be called."
   ]
  },
  {
   "cell_type": "markdown",
   "id": "d658c1a5-6328-4ca1-bdcf-7c03328aa0c8",
   "metadata": {},
   "source": [
    "### Tool Schema"
   ]
  },
  {
   "cell_type": "markdown",
   "id": "adf85e6a-c708-4ed5-8f43-e996c5f38c7f",
   "metadata": {},
   "source": [
    "Let's define the tools in a way that can be understood by our OpenAI model. OpenAI understands a specific JSON format:"
   ]
  },
  {
   "cell_type": "code",
   "execution_count": 68,
   "id": "d35f5886-32d7-4bc3-968b-4485ce20d7a3",
   "metadata": {
    "height": 946
   },
   "outputs": [],
   "source": [
    "# Define tools/functions that can be called by the model\n",
    "tools = [\n",
    "    {\n",
    "        \"type\": \"function\",\n",
    "        \"function\": {\n",
    "            \"name\": \"lookup_sales_data\",\n",
    "            \"description\": \"Look up data from Store Sales Price Elasticity Promotions dataset\",\n",
    "            \"parameters\": {\n",
    "                \"type\": \"object\",\n",
    "                \"properties\": {\n",
    "                    \"prompt\": {\"type\": \"string\", \"description\": \"The unchanged prompt that the user provided.\"}\n",
    "                },\n",
    "                \"required\": [\"prompt\"]\n",
    "            }\n",
    "        }\n",
    "    },\n",
    "    {\n",
    "        \"type\": \"function\",\n",
    "        \"function\": {\n",
    "            \"name\": \"analyze_sales_data\", \n",
    "            \"description\": \"Analyze sales data to extract insights\",\n",
    "            \"parameters\": {\n",
    "                \"type\": \"object\",\n",
    "                \"properties\": {\n",
    "                    \"data\": {\"type\": \"string\", \"description\": \"The lookup_sales_data tool's output.\"},\n",
    "                    \"prompt\": {\"type\": \"string\", \"description\": \"The unchanged prompt that the user provided.\"}\n",
    "                },\n",
    "                \"required\": [\"data\", \"prompt\"]\n",
    "            }\n",
    "        }\n",
    "    },\n",
    "    {\n",
    "        \"type\": \"function\",\n",
    "        \"function\": {\n",
    "            \"name\": \"generate_visualization\",\n",
    "            \"description\": \"Generate Python code to create data visualizations\",\n",
    "            \"parameters\": {\n",
    "                \"type\": \"object\", \n",
    "                \"properties\": {\n",
    "                    \"data\": {\"type\": \"string\", \"description\": \"The lookup_sales_data tool's output.\"},\n",
    "                    \"visualization_goal\": {\"type\": \"string\", \"description\": \"The goal of the visualization.\"}\n",
    "                },\n",
    "                \"required\": [\"data\", \"visualization_goal\"]\n",
    "            }\n",
    "        }\n",
    "    }\n",
    "]\n",
    "\n",
    "# Dictionary mapping function names to their implementations\n",
    "tool_implementations = {\n",
    "    \"lookup_sales_data\": lookup_sales_data,\n",
    "    \"analyze_sales_data\": analyze_sales_data, \n",
    "    \"generate_visualization\": generate_visualization\n",
    "}"
   ]
  },
  {
   "cell_type": "markdown",
   "id": "8291cea7-d45f-429c-845a-53ba8cfc7485",
   "metadata": {},
   "source": [
    "### Router Logic"
   ]
  },
  {
   "cell_type": "markdown",
   "id": "8a7edb47-99cc-45d0-8d13-5d6238aee2a2",
   "metadata": {},
   "source": [
    "The router is composed of a main loop method, and a method to handle the tool calls that you get back from the model.\n",
    "\n",
    "<img src=\"images/router.png\" width=\"800\"/>"
   ]
  },
  {
   "cell_type": "markdown",
   "id": "77f87aa9",
   "metadata": {},
   "source": [
    "The following two cells define the function `handle_tool_calls` and the variable `SYSTEM_PROMPT`, which will be used by the function `run_agent` defining the router logic."
   ]
  },
  {
   "cell_type": "code",
   "execution_count": 69,
   "id": "ce938658-35c9-4cda-b0d8-0b89494830c4",
   "metadata": {
    "height": 198
   },
   "outputs": [],
   "source": [
    "# code for executing the tools returned in the model's response\n",
    "def handle_tool_calls(tool_calls, messages):\n",
    "    \n",
    "    for tool_call in tool_calls:   \n",
    "        function = tool_implementations[tool_call.function.name]\n",
    "        function_args = json.loads(tool_call.function.arguments)\n",
    "        result = function(**function_args)\n",
    "        messages.append({\"role\": \"tool\", \"content\": result, \"tool_call_id\": tool_call.id})\n",
    "        \n",
    "    return messages"
   ]
  },
  {
   "cell_type": "code",
   "execution_count": 70,
   "id": "5b24bce5-477f-4e21-af18-4b784282aaa1",
   "metadata": {
    "height": 79
   },
   "outputs": [],
   "source": [
    "SYSTEM_PROMPT = \"\"\"\n",
    "You are a helpful assistant that can answer questions about the Store Sales Price Elasticity Promotions dataset.\n",
    "\"\"\""
   ]
  },
  {
   "cell_type": "code",
   "execution_count": 71,
   "id": "f0eacdb0-d8c4-4686-9fda-7b7c12ae2c35",
   "metadata": {
    "height": 555
   },
   "outputs": [],
   "source": [
    "def run_agent(messages):\n",
    "    print(\"Running agent with messages:\", messages)\n",
    "\n",
    "    if isinstance(messages, str):\n",
    "        messages = [{\"role\": \"user\", \"content\": messages}]\n",
    "        \n",
    "    # Check and add system prompt if needed\n",
    "    if not any(\n",
    "            isinstance(message, dict) and message.get(\"role\") == \"system\" for message in messages\n",
    "        ):\n",
    "            system_prompt = {\"role\": \"system\", \"content\": SYSTEM_PROMPT}\n",
    "            messages.append(system_prompt)\n",
    "\n",
    "    while True:\n",
    "        print(\"Making router call to OpenAI\")\n",
    "        response = client.chat.completions.create(\n",
    "            model=MODEL,\n",
    "            messages=messages,\n",
    "            tools=tools,\n",
    "        )\n",
    "        messages.append(response.choices[0].message)\n",
    "        tool_calls = response.choices[0].message.tool_calls\n",
    "        print(\"Received response with tool calls:\", bool(tool_calls))\n",
    "\n",
    "        # if the model decides to call function(s), call handle_tool_calls\n",
    "        if tool_calls:\n",
    "            print(\"Processing tool calls\")\n",
    "            messages = handle_tool_calls(tool_calls, messages)\n",
    "        else:\n",
    "            print(\"No tool calls, returning final response\")\n",
    "            return response.choices[0].message.content"
   ]
  },
  {
   "cell_type": "code",
   "execution_count": 72,
   "id": "d5bb8861-7304-4d4a-ac8b-6ca1d7193e59",
   "metadata": {
    "height": 45
   },
   "outputs": [
    {
     "name": "stdout",
     "output_type": "stream",
     "text": [
      "Running agent with messages: Show me the code for graph of sales by store in Nov 2021, and tell me what trends you see.\n",
      "Making router call to OpenAI\n",
      "Received response with tool calls: True\n",
      "Processing tool calls\n",
      "Making router call to OpenAI\n",
      "Received response with tool calls: True\n",
      "Processing tool calls\n",
      "Making router call to OpenAI\n",
      "Received response with tool calls: False\n",
      "No tool calls, returning final response\n"
     ]
    }
   ],
   "source": [
    "result = run_agent('Show me the code for graph of sales by store in Nov 2021, and tell me what trends you see.')"
   ]
  },
  {
   "cell_type": "code",
   "execution_count": 73,
   "id": "b1a59674-5bb3-4983-95ca-809e26743e87",
   "metadata": {
    "height": 79
   },
   "outputs": [
    {
     "name": "stdout",
     "output_type": "stream",
     "text": [
      "Here is the Python code to create a graph of sales by store in November 2021:\n",
      "\n",
      "```python\n",
      "import pandas as pd\n",
      "import matplotlib.pyplot as plt\n",
      "from io import StringIO\n",
      "\n",
      "# Data for November 2021 sales\n",
      "data = \"\"\"Store_Number,Total_Qty_Sold,Total_Sale_Value\n",
      "2640,1005.0,10891.639931\n",
      "2090,1080.0,11617.179888\n",
      "4840,1612.0,19127.169971\n",
      "3080,1454.0,18044.450005\n",
      "1320,1701.0,19553.789981\n",
      "1540,1801.0,21207.689942\n",
      "4070,932.0,9161.409921\n",
      "4730,819.0,10571.779962\n",
      "1210,1821.0,21021.669984\n",
      "2750,1462.0,16310.409961\n",
      "1760,1207.0,14598.209948\n",
      "1980,893.0,9084.959929\n",
      "330,1105.0,12569.599911\n",
      "990,1280.0,15101.459945\n",
      "3410,1345.0,15982.159946\n",
      "1100,1712.0,19298.679917\n",
      "3300,1859.0,23730.719905\n",
      "3190,1003.0,11934.999961\n",
      "880,1525.0,17753.769956\n",
      "4180,913.0,10213.819920\n",
      "550,764.0,9554.049975\n",
      "1650,1770.0,23186.909958\n",
      "2420,1370.0,15234.709888\n",
      "660,1208.0,13041.239901\n",
      "770,973.0,9181.769959\n",
      "2200,1513.0,16854.439921\n",
      "2310,1594.0,16611.539945\n",
      "1870,1648.0,17091.849894\n",
      "3630,1311.0,14202.299958\n",
      "2970,2312.0,31000.569969\n",
      "2530,890.0,11139.740003\n",
      "3740,949.0,10719.049952\n",
      "4400,225.0,4390.689987\n",
      "\"\"\"\n",
      "\n",
      "# Load data into DataFrame\n",
      "df = pd.read_csv(StringIO(data))\n",
      "\n",
      "# Create the plot\n",
      "plt.figure(figsize=(10, 6))\n",
      "plt.plot(df['Store_Number'], df['Total_Sale_Value'], marker='o')\n",
      "plt.title('Sales by Store in November 2021')\n",
      "plt.xlabel('Store Number')\n",
      "plt.ylabel('Total Sale Value')\n",
      "plt.xticks(rotation=45)\n",
      "plt.grid(True)\n",
      "plt.tight_layout()\n",
      "plt.show()\n",
      "```\n",
      "\n",
      "### Trends Observed\n",
      "\n",
      "1. **Sales Variability**: There's a considerable variation in sales revenue across different stores. The store numbered **2970** shows the highest sales value at approximately **31,000.57**, significantly higher than others.\n",
      "\n",
      "2. **Lower Performers**: The store numbered **4400** has the lowest sales value at approximately **4,390.69**, indicating it performed poorly compared to others.\n",
      "\n",
      "3. **Sales Concentration**: A few stores generate a large portion of total sales, indicated by the outlier sales values. This can suggest potential market and operational factors influencing performance.\n",
      "\n",
      "4. **Correlation with Quantity Sold**: Generally, higher sales values correlate with higher quantities sold, suggesting that the larger sales values are driven by larger volumes, which may indicate specific store performance or product factors.\n",
      "\n",
      "5. **Store Rankings**: The rank order of the stores based on sales may provide insights for strategic business decisions, such as resource allocation or promotional efforts. \n",
      "\n",
      "These trends can guide marketing and operational strategies to enhance overall sales performance.\n"
     ]
    }
   ],
   "source": [
    "print(result)\n",
    "# you can also print a formatted version of the result\n",
    "# Markdown(result)"
   ]
  }
 ],
 "metadata": {
  "kernelspec": {
   "display_name": "venv",
   "language": "python",
   "name": "python3"
  },
  "language_info": {
   "codemirror_mode": {
    "name": "ipython",
    "version": 3
   },
   "file_extension": ".py",
   "mimetype": "text/x-python",
   "name": "python",
   "nbconvert_exporter": "python",
   "pygments_lexer": "ipython3",
   "version": "3.13.1"
  }
 },
 "nbformat": 4,
 "nbformat_minor": 5
}
